{
  "nbformat": 4,
  "nbformat_minor": 0,
  "metadata": {
    "colab": {
      "name": "Couverture vaccinale par age",
      "provenance": [],
      "collapsed_sections": [],
      "authorship_tag": "ABX9TyOr/39lVCr4xSRvd8bVw1Mr",
      "include_colab_link": true
    },
    "kernelspec": {
      "name": "python3",
      "display_name": "Python 3"
    },
    "language_info": {
      "name": "python"
    }
  },
  "cells": [
    {
      "cell_type": "markdown",
      "metadata": {
        "id": "view-in-github",
        "colab_type": "text"
      },
      "source": [
        "<a href=\"https://colab.research.google.com/github/EliasOrphelin/Analysis/blob/main/Couverture_vaccinale_par_age.ipynb\" target=\"_parent\"><img src=\"https://colab.research.google.com/assets/colab-badge.svg\" alt=\"Open In Colab\"/></a>"
      ]
    },
    {
      "cell_type": "code",
      "metadata": {
        "id": "OLVrgHTNy0m7",
        "colab": {
          "base_uri": "https://localhost:8080/",
          "height": 297
        },
        "outputId": "a86f538a-0ed6-4b2d-903d-bb8d2a922681"
      },
      "source": [
        "#data et bibliothèques\n",
        "import pandas as pd\n",
        "import matplotlib.pyplot as plt \n",
        "import numpy as np\n",
        "source_data_age= (\"https://www.data.gouv.fr/fr/datasets/r/dc103057-d933-4e4b-bdbf-36d312af9ca9\")\n",
        "\n",
        "#3 data frames\n",
        "data_age = pd.read_csv(source_data_age,sep=\";\")\n",
        "data_complet=pd.DataFrame()\n",
        "data_majeur=pd.DataFrame()\n",
        "\n",
        "#on sort du tableau le total\n",
        "data_complet[0]=data_age.iloc[10]\n",
        "data_complet=data_complet.transpose()\n",
        "data_age = data_age.drop([10])\n",
        "data_age = data_age.drop(columns=['fra','jour'])\n",
        "\n",
        "#on calcule la valeur pour les majeurs\n",
        "data_majeur = data_age.sum(axis = 0, skipna = True)\n",
        "\n",
        "#on calcule pour les mineurs\n",
        "data_mineur=data_complet-data_majeur\n",
        "data_mineur = data_mineur.drop(columns=['fra','jour'])\n",
        "data_mineur['couv_tot_dose1']=data_mineur['n_tot_dose1']/data_mineur['pop']*100\n",
        "data_mineur['couv_tot_complet']=data_mineur['n_tot_complet']/data_mineur['pop']*100\n",
        "data_mineur=data_mineur.rename(index={0: \"0 - 17 ans\"})\n",
        "\n",
        "#On fusionne les 2 lignes entre 18 et 29 ans, les 2 lignes entre 60 et 69 ans, et celles entre 70 et 79\n",
        "new_row = data_age.loc[1] +  data_age.loc[0] \n",
        "new_row.name = '18 - 29 ans'\n",
        "new_row[\"couv_tot_dose1\"]=new_row[\"couv_tot_dose1\"]/2\n",
        "new_row[\"couv_tot_complet\"]=new_row[\"couv_tot_complet\"]/2\n",
        "data_age = data_age.append([new_row])\n",
        "data_age = data_age.drop([0,1])\n",
        "\n",
        "new_row = data_age.loc[5] +  data_age.loc[6] \n",
        "new_row.name = '60 - 69 ans'\n",
        "new_row[\"couv_tot_dose1\"]=new_row[\"couv_tot_dose1\"]/2\n",
        "new_row[\"couv_tot_complet\"]=new_row[\"couv_tot_complet\"]/2\n",
        "data_age = data_age.append([new_row])\n",
        "data_age = data_age.drop([5,6])\n",
        "\n",
        "new_row = data_age.loc[7] +  data_age.loc[8] \n",
        "new_row.name = '70 - 79 ans'\n",
        "new_row[\"couv_tot_dose1\"]=new_row[\"couv_tot_dose1\"]/2\n",
        "new_row[\"couv_tot_complet\"]=new_row[\"couv_tot_complet\"]/2\n",
        "data_age = data_age.append([new_row])\n",
        "data_age = data_age.drop([7,8])\n",
        "\n",
        "\n",
        "#On renomme toutes les autres\n",
        "data_age=data_age.rename(index={2: \"30 - 39 ans\",3: \"40 - 49 ans\",4: \"50 - 59 ans\",9: \"80 ans et plus\"})\n",
        "\n",
        "#On agrège majeurs et mineurs\n",
        "data_age=pd.concat([data_mineur,data_age])\n",
        "data_age= data_age.drop(columns=['clage_vacsi'])\n",
        "data_age=data_age.rename(columns={'couv_tot_complet': \"Couverture complète\",'couv_tot_dose1': \"Couverture partielle\",'n_tot_complet': \"Vaccinés\",'n_tot_dose1': \"Primo-vaccinés\",'pop': \"Population\"})\n",
        "data_age=data_age.sort_index(ascending=True)\n",
        "\n",
        "#On fait un graph\n",
        "labels = data_age.index\n",
        "primo_vaccinés = data_age['Couverture partielle']\n",
        "vaccinés = data_age['Couverture complète']\n",
        "width = 0.7\n",
        "\n",
        "x = np.arange(len(labels))\n",
        "fig, ax = plt.subplots()\n",
        "rects1 = ax.bar(x , primo_vaccinés, width, label='Couverture partielle',color=\"lightskyblue\")\n",
        "rects2 = ax.bar(x , vaccinés, width, label='Couverture complète',color=\"royalblue\")\n",
        "\n",
        "ax.set_ylabel('%')\n",
        "ax.set_title('Couverture vaccinale par âge')\n",
        "ax.set_xticks(x)\n",
        "plt.xticks(rotation='vertical')\n",
        "ax.set_xticklabels(labels)\n",
        "ax.legend()\n",
        "ax.set_ylim(0, 100)\n",
        "\n",
        "fig.tight_layout()\n",
        "\n",
        "plt.show()\n",
        "\n"
      ],
      "execution_count": 241,
      "outputs": [
        {
          "output_type": "display_data",
          "data": {
            "image/png": "[encoded data removed]",
            "text/plain": [
              "<Figure size 432x288 with 1 Axes>"
            ]
          },
          "metadata": {
            "tags": [],
            "needs_background": "light"
          }
        }
      ]
    },
    {
      "cell_type": "code",
      "metadata": {
        "id": "hT-hIlSwFAUq"
      },
      "source": [
        ""
      ],
      "execution_count": null,
      "outputs": []
    }
  ]
}